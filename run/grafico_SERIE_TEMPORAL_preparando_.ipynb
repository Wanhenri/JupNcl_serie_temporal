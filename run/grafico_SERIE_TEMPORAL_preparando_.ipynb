{
 "cells": [
  {
   "cell_type": "markdown",
   "metadata": {},
   "source": [
    "<!DOCTYPE html>\n",
    "<html>\n",
    "<body>\n",
    "    <h1 style=\"color:blue;\" align=\"center\">Grafico de série temporal</h1>\n",
    "    <hr>\n",
    "     <div>\n",
    "     <table>\n",
    "      <thead>\n",
    "       <th>Utilizado</th>   \n",
    "       <th>Condição Inicial</th>\n",
    "       <th>Variável</th>\n",
    "       <th>FillValue</th>\n",
    "      </thead>\n",
    "      <tbody>\n",
    "       <td>SMG BAM v2.0.0</td>   \n",
    "       <td>GSI</td>\n",
    "       <td>prec</td>\n",
    "       <td>-9.99e+08</td>\n",
    "      </tbody>\n",
    "      <tbody>\n",
    "       <td>SMG BAM v2.0.0</td>\n",
    "       <td>NCEP</td>\n",
    "       <td>prec</td>\n",
    "       <td>-9.99e+08</td>\n",
    "      </tbody>\n",
    "      <tbody>\n",
    "       <td>GSF</td>\n",
    "       <td>GFS</td>\n",
    "       <td>APCP_surface</td>\n",
    "       <td>-9.99e+08</td>\n",
    "      </tbody>\n",
    "      <tbody>\n",
    "       <td>GPM</td>\n",
    "       <td>Imerge</td>\n",
    "       <td>PREC_surface</td>\n",
    "       <td>---------</td> \n",
    "      </tbody>    \n",
    "     </table>\n",
    "    </div>\n",
    "</body>\n",
    "</html>"
   ]
  },
  {
   "cell_type": "code",
   "execution_count": null,
   "metadata": {},
   "outputs": [],
   "source": []
  },
  {
   "cell_type": "markdown",
   "metadata": {},
   "source": [
    "<!DOCTYPE html>\n",
    "<html>\n",
    "<body>\n",
    "    <h3 style=\"color:blue;\" align=\"center\">SMG BAM v2.0.0</h3>\n",
    "     <hr>\n",
    "        <div>\n",
    "        <table>\n",
    "            <thead>\n",
    "                <th>Condição Inicial</th>\n",
    "                <th>Variável</th>\n",
    "                <th>FillValue</th>\n",
    "            </thead>\n",
    "            <tbody>\n",
    "                <td>GSI</td>\n",
    "                <td>prec</td>\n",
    "                <td>-9.99e+08</td>\n",
    "            </tbody>\n",
    "        </table>\n",
    "        </div>\n",
    "</body>\n",
    "</html>"
   ]
  },
  {
   "cell_type": "code",
   "execution_count": null,
   "metadata": {},
   "outputs": [],
   "source": []
  },
  {
   "cell_type": "code",
   "execution_count": null,
   "metadata": {},
   "outputs": [],
   "source": [
    "new1 = addfile (\"MAY2015_24Z_12Z_SMG.nc\", \"r\")\n",
    "new1_24=new1->prec\n",
    "new1_24@_FillValue=-9.99e+08; -9999\n",
    "\n",
    "new1 = addfile (\"MAY2015_48Z_12Z_SMG.nc\", \"r\")\n",
    "new1_48=new1->prec\n",
    "new1_48@_FillValue=-9.99e+08; -9999\n",
    "\n",
    "new1 = addfile (\"MAY2015_72Z_12Z_SMG.nc\", \"r\")\n",
    "new1_72=new1->prec\n",
    "new1_72@_FillValue=-9.99e+08; -9999\n"
   ]
  },
  {
   "cell_type": "markdown",
   "metadata": {},
   "source": []
  },
  {
   "cell_type": "markdown",
   "metadata": {},
   "source": [
    "<!DOCTYPE html>\n",
    "<html>\n",
    "<body>\n",
    "    <h2 style=\"color:blue;\" align=\"center\">SMG BAM v2.0.0</h2>\n",
    "     <hr>\n",
    "        <div>\n",
    "        <table>\n",
    "            <thead>\n",
    "                <th>Condição Inicial</th>\n",
    "                <th>Variável</th>\n",
    "                <th>FillValue</th>\n",
    "            </thead>\n",
    "            <tbody>\n",
    "                <td>NCEP</td>\n",
    "                <td>prec</td>\n",
    "                <td>-9.99e+08</td>\n",
    "            </tbody>\n",
    "        </table>\n",
    "        </div>\n",
    "</body>\n",
    "</html>"
   ]
  },
  {
   "cell_type": "code",
   "execution_count": null,
   "metadata": {},
   "outputs": [],
   "source": []
  },
  {
   "cell_type": "code",
   "execution_count": null,
   "metadata": {},
   "outputs": [],
   "source": [
    "fall2 = addfile (\"MAY2015_24Z_12Z_NCEP.nc\", \"r\")\n",
    "new2_24 = fall2->prec\n",
    "new2_24@_FillValue=-9.99e+08; -9999\n",
    "\n",
    "fall2 = addfile (\"MAY2015_48Z_12Z_NCEP.nc\", \"r\")\n",
    "new2_48 = fall2->prec\n",
    "new2_48@_FillValue=-9.99e+08; -9999\n",
    "\n",
    "fall2 = addfile (\"MAY2015_72Z_12Z_NCEP.nc\", \"r\")\n",
    "new2_72 = fall2->prec\n",
    "new2_72@_FillValue=-9.99e+08; -9999\n"
   ]
  },
  {
   "cell_type": "code",
   "execution_count": null,
   "metadata": {},
   "outputs": [],
   "source": []
  },
  {
   "cell_type": "markdown",
   "metadata": {},
   "source": [
    "<!DOCTYPE html>\n",
    "<html>\n",
    "<body>\n",
    "    <h2 style=\"color:blue;\"  align=\"center\">GFS</h2>\n",
    "    <hr>\n",
    "        <div>\n",
    "        <table>\n",
    "            <thead>\n",
    "                <th>Condição Inicial</th>\n",
    "                <th>Variável</th>\n",
    "                <th>FillValue</th>\n",
    "            </thead>\n",
    "            <tbody>\n",
    "                <td>GFS</td>\n",
    "                <td>APCP_surface</td>\n",
    "                <td>-9.99e+08</td>\n",
    "            </tbody>\n",
    "        </table>\n",
    "        </div>\n",
    "</body>\n",
    "</html>"
   ]
  },
  {
   "cell_type": "code",
   "execution_count": null,
   "metadata": {},
   "outputs": [],
   "source": []
  },
  {
   "cell_type": "code",
   "execution_count": null,
   "metadata": {},
   "outputs": [],
   "source": [
    "fall3 = addfile (\"prev.2015.mar.24h_seldate.nc\", \"r\")\n",
    "gfs_24 = fall3->APCP_surface\n",
    "gfs_24@_FillValue=-9.99e+08\n",
    "\n",
    "fall3 = addfile (\"prev.2015.mar.48h_seldate.nc\", \"r\")\n",
    "gfs_48 = fall3->APCP_surface\n",
    "gfs_48@_FillValue=-9.99e+08\n",
    "\n",
    "fall3 = addfile (\"prev.2015.mar.72h_seldate.nc\", \"r\")\n",
    "gfs_72 = fall3->APCP_surface\n",
    "gfs_72@_FillValue=-9.99e+08\n"
   ]
  },
  {
   "cell_type": "code",
   "execution_count": null,
   "metadata": {},
   "outputs": [],
   "source": []
  },
  {
   "cell_type": "markdown",
   "metadata": {},
   "source": [
    "<!DOCTYPE html>\n",
    "<html>\n",
    "<head>    \n",
    "</head>    \n",
    "<body>\n",
    "    <h2 style=\"color:blue;\" align=\"center\">GPM Imerg</h2>\n",
    "    <hr>\n",
    "         <div>\n",
    "        <table>\n",
    "            <thead>\n",
    "                <th>Condição Inicial</th>\n",
    "                <th>Variável</th>\n",
    "                <th>FillValue</th>\n",
    "            </thead>\n",
    "            <tbody>\n",
    "                <td>Imerg</td>\n",
    "                <td>PREC_surface</td>\n",
    "                <td>---------</td> \n",
    "            </tbody>\n",
    "        </table>\n",
    "        </div>\n",
    "</body>\n",
    "</html>"
   ]
  },
  {
   "cell_type": "code",
   "execution_count": null,
   "metadata": {},
   "outputs": [],
   "source": []
  },
  {
   "cell_type": "code",
   "execution_count": null,
   "metadata": {},
   "outputs": [],
   "source": [
    "fall3 = addfile (\"GPM_REC_ACUM_24h_grib2.nc\",\"r\")\n",
    "tmpa = fall3->PREC_surface\n"
   ]
  },
  {
   "cell_type": "code",
   "execution_count": null,
   "metadata": {},
   "outputs": [],
   "source": []
  },
  {
   "cell_type": "markdown",
   "metadata": {},
   "source": [
    "<!DOCTYPE html>\n",
    "<html>\n",
    "<body>\n",
    "    <p> obs.: Os scripts abaixo contém os calculos realizados no processo (read-data-br-series.ncl);\n",
    "        juntamente com o script que gera as figuras (series-br-graphics.ncl)\n",
    "    </p>\n",
    "</body>\n",
    "</html>    "
   ]
  },
  {
   "cell_type": "code",
   "execution_count": null,
   "metadata": {},
   "outputs": [],
   "source": [
    "load \"read-data-br-series.ncl\"\n",
    "load \"series-br-graphics.ncl\""
   ]
  },
  {
   "cell_type": "code",
   "execution_count": null,
   "metadata": {},
   "outputs": [],
   "source": []
  },
  {
   "cell_type": "code",
   "execution_count": null,
   "metadata": {},
   "outputs": [],
   "source": []
  },
  {
   "cell_type": "markdown",
   "metadata": {},
   "source": [
    "<!DOCTYPE html>\n",
    "<html>\n",
    "    <img src=\"teste.png\">\n",
    "</html>"
   ]
  },
  {
   "cell_type": "code",
   "execution_count": null,
   "metadata": {},
   "outputs": [],
   "source": []
  }
 ],
 "metadata": {
  "kernelspec": {
   "display_name": "NCL",
   "language": "ncl",
   "name": "ncl_kernel"
  },
  "language_info": {
   "file_extension": ".ncl",
   "mimetype": "text/plain",
   "name": "ncl"
  }
 },
 "nbformat": 4,
 "nbformat_minor": 2
}
